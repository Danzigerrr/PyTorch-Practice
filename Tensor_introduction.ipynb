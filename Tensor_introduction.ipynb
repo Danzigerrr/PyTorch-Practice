{
  "nbformat": 4,
  "nbformat_minor": 0,
  "metadata": {
    "colab": {
      "provenance": [],
      "authorship_tag": "ABX9TyP8wd7UaokbSJCEk8rVqlby",
      "include_colab_link": true
    },
    "kernelspec": {
      "name": "python3",
      "display_name": "Python 3"
    },
    "language_info": {
      "name": "python"
    }
  },
  "cells": [
    {
      "cell_type": "markdown",
      "metadata": {
        "id": "view-in-github",
        "colab_type": "text"
      },
      "source": [
        "<a href=\"https://colab.research.google.com/github/Danzigerrr/PyTorch-Practice/blob/Practice-1/Tensor_introduction.ipynb\" target=\"_parent\"><img src=\"https://colab.research.google.com/assets/colab-badge.svg\" alt=\"Open In Colab\"/></a>"
      ]
    },
    {
      "cell_type": "markdown",
      "source": [
        "\n",
        "# TENSORS\n",
        "\n",
        "- A torch.Tensor is a multi-dimensional matrix containing elements of a single data type.\n",
        "- Similar To Numpy Arrays, but full of fun things that make them work better on GPU's (vs regular CPU's).\n",
        "- Default data type of float32.\n",
        "- More suitable for deep learning than a numpy array.\n",
        "\n"
      ],
      "metadata": {
        "id": "YWMUDPp6WRy5"
      }
    },
    {
      "cell_type": "markdown",
      "source": [
        "## Normal list"
      ],
      "metadata": {
        "id": "5o2QQapaXA8J"
      }
    },
    {
      "cell_type": "code",
      "execution_count": null,
      "metadata": {
        "colab": {
          "base_uri": "https://localhost:8080/"
        },
        "id": "2vyyUBf7VN9l",
        "outputId": "31417c1d-6ffc-4cfe-a04d-e8709d7b4eef"
      },
      "outputs": [
        {
          "output_type": "execute_result",
          "data": {
            "text/plain": [
              "[[1, 2, 3], [4, 5, 6], [7, 8, 9]]"
            ]
          },
          "metadata": {},
          "execution_count": 4
        }
      ],
      "source": [
        "my_list = [[1,2,3], [4,5,6], [7,8,9]]\n",
        "my_list"
      ]
    },
    {
      "cell_type": "markdown",
      "source": [
        "## Numpy list"
      ],
      "metadata": {
        "id": "ifNxIjdnXC3z"
      }
    },
    {
      "cell_type": "code",
      "source": [
        "import numpy as np"
      ],
      "metadata": {
        "id": "bkas_b7GWh8k"
      },
      "execution_count": null,
      "outputs": []
    },
    {
      "cell_type": "code",
      "source": [
        "np1 = np.array(my_list)\n",
        "np1"
      ],
      "metadata": {
        "colab": {
          "base_uri": "https://localhost:8080/"
        },
        "id": "gKl17zMxWwM4",
        "outputId": "89902df2-88e3-4661-9d9a-4a90bada3a66"
      },
      "execution_count": null,
      "outputs": [
        {
          "output_type": "execute_result",
          "data": {
            "text/plain": [
              "array([[1, 2, 3],\n",
              "       [4, 5, 6],\n",
              "       [7, 8, 9]])"
            ]
          },
          "metadata": {},
          "execution_count": 7
        }
      ]
    },
    {
      "cell_type": "code",
      "source": [
        "np2 = np.random.rand(5)\n",
        "np2"
      ],
      "metadata": {
        "colab": {
          "base_uri": "https://localhost:8080/"
        },
        "id": "SxRwyXOeWymK",
        "outputId": "8297e154-7c58-4177-b83e-06c955203738"
      },
      "execution_count": null,
      "outputs": [
        {
          "output_type": "execute_result",
          "data": {
            "text/plain": [
              "array([0.67343049, 0.40182019, 0.45552821, 0.36952321, 0.95915559])"
            ]
          },
          "metadata": {},
          "execution_count": 13
        }
      ]
    },
    {
      "cell_type": "markdown",
      "source": [
        "## PyTorch tensor"
      ],
      "metadata": {
        "id": "u3w5Ud3XXFGL"
      }
    },
    {
      "cell_type": "code",
      "source": [
        "import torch"
      ],
      "metadata": {
        "id": "XwW3os1vXLZC"
      },
      "execution_count": null,
      "outputs": []
    },
    {
      "cell_type": "code",
      "source": [
        "tensor_2d = torch.randn(3,6)\n",
        "tensor_2d"
      ],
      "metadata": {
        "colab": {
          "base_uri": "https://localhost:8080/"
        },
        "id": "PXNVXC4DW3oM",
        "outputId": "b7dbbec9-8f01-4ef3-d420-f2a765d665cc"
      },
      "execution_count": null,
      "outputs": [
        {
          "output_type": "execute_result",
          "data": {
            "text/plain": [
              "tensor([[-1.1771,  0.0112, -1.0511, -1.7508,  1.2452, -0.4709],\n",
              "        [ 0.7712,  0.9913,  0.4138,  1.1111,  0.3449, -1.0989],\n",
              "        [ 0.6314,  0.8992,  0.2228, -0.5353, -0.4907, -0.1657]])"
            ]
          },
          "metadata": {},
          "execution_count": 17
        }
      ]
    },
    {
      "cell_type": "code",
      "source": [
        "tensor_3d = torch.randn(3,6,7)\n",
        "tensor_3d"
      ],
      "metadata": {
        "colab": {
          "base_uri": "https://localhost:8080/"
        },
        "id": "go145j8bXJOR",
        "outputId": "21015aa7-0938-438b-cee3-45034ebdc0f7"
      },
      "execution_count": null,
      "outputs": [
        {
          "output_type": "execute_result",
          "data": {
            "text/plain": [
              "tensor([[[-0.4045, -1.3636,  0.6546,  1.3528, -0.1329, -0.1440,  0.1978],\n",
              "         [-1.9448,  0.5967, -0.5061,  1.1489, -1.3112,  0.5778,  0.8290],\n",
              "         [ 0.0114,  0.4072, -1.0174,  1.0044,  0.4973, -0.1366, -1.2101],\n",
              "         [-0.7985, -1.5179,  0.2846,  1.5445, -0.5492,  0.5987,  0.8227],\n",
              "         [ 0.3033, -0.4354, -0.2588, -0.3435,  0.6427, -1.4902, -1.0297],\n",
              "         [-2.5860,  0.9009,  0.4070,  1.8775,  0.8810, -0.8802, -0.8829]],\n",
              "\n",
              "        [[-1.1868, -0.6343,  1.2003, -1.0584, -0.4823,  1.2490,  0.5289],\n",
              "         [-0.4010, -0.9174, -1.1150, -1.3565,  0.5636, -0.3414,  0.5438],\n",
              "         [ 0.4472, -0.5389,  2.0707,  0.3373, -0.5339, -0.4005,  0.6938],\n",
              "         [-1.0592, -1.2221, -0.0918, -1.4597,  0.3190, -1.3267, -0.5818],\n",
              "         [-0.2031,  0.2930,  1.0165, -0.1576,  1.4738, -0.2738,  0.6337],\n",
              "         [ 0.3758, -0.3863, -0.9164,  0.5072,  0.8621, -0.9447, -1.0513]],\n",
              "\n",
              "        [[ 1.4789,  2.0841, -1.6133,  1.3053,  0.4652,  0.8213,  1.6008],\n",
              "         [-1.2285,  1.5805,  0.3493, -0.0946, -0.2431,  0.9266, -1.0223],\n",
              "         [-1.5150, -1.4140, -0.9843, -0.9951,  1.8389, -0.6718,  1.1834],\n",
              "         [-0.2109, -0.9797, -1.4431, -1.6217,  0.5877,  0.5374, -0.0892],\n",
              "         [-0.7241, -0.8757, -0.8955,  1.0548,  2.0901,  0.2355, -1.5297],\n",
              "         [-0.8038,  1.6561,  0.0892,  0.1051, -0.6793, -0.5426, -0.9548]]])"
            ]
          },
          "metadata": {},
          "execution_count": 20
        }
      ]
    },
    {
      "cell_type": "markdown",
      "source": [
        "### Tensor from numpy array"
      ],
      "metadata": {
        "id": "WNgOi2uLXcxL"
      }
    },
    {
      "cell_type": "code",
      "source": [
        "tensor_from_numpy = torch.from_numpy(np1)\n",
        "tensor_from_numpy"
      ],
      "metadata": {
        "colab": {
          "base_uri": "https://localhost:8080/"
        },
        "id": "96TD9KWKXYNs",
        "outputId": "c7974c63-06b3-4443-b6cf-373e6ad1e653"
      },
      "execution_count": null,
      "outputs": [
        {
          "output_type": "execute_result",
          "data": {
            "text/plain": [
              "tensor([[1, 2, 3],\n",
              "        [4, 5, 6],\n",
              "        [7, 8, 9]])"
            ]
          },
          "metadata": {},
          "execution_count": 22
        }
      ]
    },
    {
      "cell_type": "code",
      "source": [],
      "metadata": {
        "id": "x3ITKVtjXh9s"
      },
      "execution_count": null,
      "outputs": []
    }
  ]
}