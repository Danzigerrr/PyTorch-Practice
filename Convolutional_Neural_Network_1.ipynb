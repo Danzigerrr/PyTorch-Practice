{
  "nbformat": 4,
  "nbformat_minor": 0,
  "metadata": {
    "colab": {
      "provenance": [],
      "authorship_tag": "ABX9TyOj+TWHNS2nvyEok8o0wMF9",
      "include_colab_link": true
    },
    "kernelspec": {
      "name": "python3",
      "display_name": "Python 3"
    },
    "language_info": {
      "name": "python"
    }
  },
  "cells": [
    {
      "cell_type": "markdown",
      "metadata": {
        "id": "view-in-github",
        "colab_type": "text"
      },
      "source": [
        "<a href=\"https://colab.research.google.com/github/Danzigerrr/PyTorch-Practice/blob/Convolutional-Neural-Network-1/Convolutional_Neural_Network_1.ipynb\" target=\"_parent\"><img src=\"https://colab.research.google.com/assets/colab-badge.svg\" alt=\"Open In Colab\"/></a>"
      ]
    },
    {
      "cell_type": "markdown",
      "source": [
        "# Convolutional Neural Network model\n",
        "\n",
        "Data - MNIST dataset"
      ],
      "metadata": {
        "id": "NmWAT4GOijg7"
      }
    },
    {
      "cell_type": "markdown",
      "source": [
        "## Import libraries"
      ],
      "metadata": {
        "id": "kRwVYzsGmuYk"
      }
    },
    {
      "cell_type": "code",
      "execution_count": 1,
      "metadata": {
        "id": "yF2KrILhiCAA"
      },
      "outputs": [],
      "source": [
        "import torch\n",
        "import torch.nn as nn\n",
        "import torch.nn.functional as F\n",
        "from torch.utils.data import DataLoader\n",
        "from torchvision import datasets, transforms\n",
        "from torchvision.utils import make_grid\n",
        "import numpy as np\n",
        "import pandas as pd\n",
        "from sklearn.metrics import confusion_matrix\n",
        "import matplotlib.pyplot as plt\n",
        "%matplotlib inline"
      ]
    },
    {
      "cell_type": "markdown",
      "source": [
        "## Import Data"
      ],
      "metadata": {
        "id": "evBylj8amx1_"
      }
    },
    {
      "cell_type": "markdown",
      "source": [
        "convert images to tensore of 4-dimenstions (images, height, widht, colour)"
      ],
      "metadata": {
        "id": "jXE4DUYQm6-g"
      }
    },
    {
      "cell_type": "code",
      "source": [
        "transform = transforms.ToTensor()\n"
      ],
      "metadata": {
        "id": "23pKLVvyma93"
      },
      "execution_count": 2,
      "outputs": []
    },
    {
      "cell_type": "markdown",
      "source": [
        "#### Test data"
      ],
      "metadata": {
        "id": "-LhDN2YOnbuz"
      }
    },
    {
      "cell_type": "code",
      "source": [
        "train_data = datasets.MNIST(root = '/cnn_data', train = True, download = True, transform = transform)"
      ],
      "metadata": {
        "id": "0bnWl0X0nDvJ"
      },
      "execution_count": 3,
      "outputs": []
    },
    {
      "cell_type": "code",
      "source": [
        "train_data"
      ],
      "metadata": {
        "colab": {
          "base_uri": "https://localhost:8080/"
        },
        "id": "siud81-AnhXJ",
        "outputId": "f13f27ed-2f03-4656-d4d8-59dda956abb6"
      },
      "execution_count": 4,
      "outputs": [
        {
          "output_type": "execute_result",
          "data": {
            "text/plain": [
              "Dataset MNIST\n",
              "    Number of datapoints: 60000\n",
              "    Root location: /cnn_data\n",
              "    Split: Train\n",
              "    StandardTransform\n",
              "Transform: ToTensor()"
            ]
          },
          "metadata": {},
          "execution_count": 4
        }
      ]
    },
    {
      "cell_type": "markdown",
      "source": [
        "#### Test data"
      ],
      "metadata": {
        "id": "fmbnGdJunUsq"
      }
    },
    {
      "cell_type": "code",
      "source": [
        "test_data = datasets.MNIST(root = '/cnn_data', train = False, download = True, transform = transform)"
      ],
      "metadata": {
        "id": "9e8BmvEunGTA"
      },
      "execution_count": 5,
      "outputs": []
    },
    {
      "cell_type": "code",
      "source": [
        "test_data"
      ],
      "metadata": {
        "colab": {
          "base_uri": "https://localhost:8080/"
        },
        "id": "qx4I6dxLnkKG",
        "outputId": "37ccd877-0ed6-4fb5-acd2-b61c95f9cf93"
      },
      "execution_count": 6,
      "outputs": [
        {
          "output_type": "execute_result",
          "data": {
            "text/plain": [
              "Dataset MNIST\n",
              "    Number of datapoints: 10000\n",
              "    Root location: /cnn_data\n",
              "    Split: Test\n",
              "    StandardTransform\n",
              "Transform: ToTensor()"
            ]
          },
          "metadata": {},
          "execution_count": 6
        }
      ]
    },
    {
      "cell_type": "markdown",
      "source": [
        "See where the data is saved"
      ],
      "metadata": {
        "id": "UWoQQCtaoGq5"
      }
    },
    {
      "cell_type": "code",
      "source": [
        "cd ../"
      ],
      "metadata": {
        "colab": {
          "base_uri": "https://localhost:8080/"
        },
        "id": "XEScjCjCnlJX",
        "outputId": "379ba971-695a-45ef-f2d0-799b886ed82b"
      },
      "execution_count": 7,
      "outputs": [
        {
          "output_type": "stream",
          "name": "stdout",
          "text": [
            "/\n"
          ]
        }
      ]
    },
    {
      "cell_type": "code",
      "source": [
        "ls"
      ],
      "metadata": {
        "colab": {
          "base_uri": "https://localhost:8080/"
        },
        "id": "j7HPvYN0nrp_",
        "outputId": "aae4f71d-d567-47c8-84ef-307306704591"
      },
      "execution_count": 8,
      "outputs": [
        {
          "output_type": "stream",
          "name": "stdout",
          "text": [
            "\u001b[0m\u001b[01;36mbin\u001b[0m@                        \u001b[01;34mdatalab\u001b[0m/  \u001b[01;36mlib32\u001b[0m@   NGC-DL-CONTAINER-LICENSE  \u001b[01;34mroot\u001b[0m/  \u001b[30;42mtmp\u001b[0m/\n",
            "\u001b[01;34mboot\u001b[0m/                       \u001b[01;34mdev\u001b[0m/      \u001b[01;36mlib64\u001b[0m@   \u001b[01;34mopt\u001b[0m/                      \u001b[01;34mrun\u001b[0m/   \u001b[01;34mtools\u001b[0m/\n",
            "\u001b[01;34mcnn_data\u001b[0m/                   \u001b[01;34metc\u001b[0m/      \u001b[01;36mlibx32\u001b[0m@  \u001b[01;34mproc\u001b[0m/                     \u001b[01;36msbin\u001b[0m@  \u001b[01;34musr\u001b[0m/\n",
            "\u001b[01;34mcontent\u001b[0m/                    \u001b[01;34mhome\u001b[0m/     \u001b[01;34mmedia\u001b[0m/   \u001b[01;34mpython-apt\u001b[0m/               \u001b[01;34msrv\u001b[0m/   \u001b[01;34mvar\u001b[0m/\n",
            "cuda-keyring_1.0-1_all.deb  \u001b[01;36mlib\u001b[0m@      \u001b[01;34mmnt\u001b[0m/     \u001b[01;32mpython-apt.tar.xz\u001b[0m*        \u001b[01;34msys\u001b[0m/\n"
          ]
        }
      ]
    },
    {
      "cell_type": "code",
      "source": [
        "cd cnn_data"
      ],
      "metadata": {
        "colab": {
          "base_uri": "https://localhost:8080/"
        },
        "id": "SeYjf_x2ntFw",
        "outputId": "cdf20898-bfb4-4e62-caab-eb075c2e2972"
      },
      "execution_count": 9,
      "outputs": [
        {
          "output_type": "stream",
          "name": "stdout",
          "text": [
            "/cnn_data\n"
          ]
        }
      ]
    },
    {
      "cell_type": "code",
      "source": [
        "ls"
      ],
      "metadata": {
        "colab": {
          "base_uri": "https://localhost:8080/"
        },
        "id": "kYz_pPkPoAQ2",
        "outputId": "04c1b44f-69df-42d2-b80a-f84860d68e26"
      },
      "execution_count": 10,
      "outputs": [
        {
          "output_type": "stream",
          "name": "stdout",
          "text": [
            "\u001b[0m\u001b[01;34mMNIST\u001b[0m/\n"
          ]
        }
      ]
    },
    {
      "cell_type": "code",
      "source": [
        "cd ../"
      ],
      "metadata": {
        "colab": {
          "base_uri": "https://localhost:8080/"
        },
        "id": "i90m9KfZoAi-",
        "outputId": "caff6061-9671-4d08-9b51-ece808ea4985"
      },
      "execution_count": 11,
      "outputs": [
        {
          "output_type": "stream",
          "name": "stdout",
          "text": [
            "/\n"
          ]
        }
      ]
    },
    {
      "cell_type": "code",
      "source": [
        "cd content"
      ],
      "metadata": {
        "colab": {
          "base_uri": "https://localhost:8080/"
        },
        "id": "b5p_pQHEoC4B",
        "outputId": "d9b45b11-ad5d-43bc-d7a9-97de6eda8929"
      },
      "execution_count": 12,
      "outputs": [
        {
          "output_type": "stream",
          "name": "stdout",
          "text": [
            "/content\n"
          ]
        }
      ]
    },
    {
      "cell_type": "markdown",
      "source": [
        "## Train model"
      ],
      "metadata": {
        "id": "b15HTfoOwQe2"
      }
    },
    {
      "cell_type": "markdown",
      "source": [
        "### Data loaders"
      ],
      "metadata": {
        "id": "HC330iRXwiqC"
      }
    },
    {
      "cell_type": "code",
      "source": [
        "train_loader = DataLoader(train_data, batch_size = 10, shuffle = True)\n",
        "test_loader = DataLoader(test_data, batch_size = 10, shuffle = False)"
      ],
      "metadata": {
        "id": "NNsgNYFloEBK"
      },
      "execution_count": 13,
      "outputs": []
    },
    {
      "cell_type": "markdown",
      "source": [
        "### Define CNN Workflow (step by step)"
      ],
      "metadata": {
        "id": "OlwmXV53wmLx"
      }
    },
    {
      "cell_type": "code",
      "source": [
        "conv1 = nn.Conv2d(in_channels = 1, out_channels = 6, kernel_size = 3, stride = 1)\n",
        "conv2 = nn.Conv2d(in_channels = 6, out_channels = 16, kernel_size = 3, stride = 1)"
      ],
      "metadata": {
        "id": "eJdbWd4_wo1o"
      },
      "execution_count": 14,
      "outputs": []
    },
    {
      "cell_type": "code",
      "source": [
        "for i, (X_Train, y_train) in enumerate(train_data):\n",
        "  break"
      ],
      "metadata": {
        "id": "_WeFPL0Dw-I_"
      },
      "execution_count": 15,
      "outputs": []
    },
    {
      "cell_type": "code",
      "source": [
        "X_Train.shape"
      ],
      "metadata": {
        "colab": {
          "base_uri": "https://localhost:8080/"
        },
        "id": "XsxMkrYnw-B6",
        "outputId": "9a42505f-5cc2-4239-b739-bd91595d8af2"
      },
      "execution_count": 16,
      "outputs": [
        {
          "output_type": "execute_result",
          "data": {
            "text/plain": [
              "torch.Size([1, 28, 28])"
            ]
          },
          "metadata": {},
          "execution_count": 16
        }
      ]
    },
    {
      "cell_type": "code",
      "source": [
        "x = X_Train.view(1,1,28,28)"
      ],
      "metadata": {
        "id": "0ZtIeC8uxYyM"
      },
      "execution_count": 17,
      "outputs": []
    },
    {
      "cell_type": "code",
      "source": [
        "# 1st convolution layer\n",
        "x = F.relu(conv1(x))"
      ],
      "metadata": {
        "id": "VmHqNtpbxfws"
      },
      "execution_count": 18,
      "outputs": []
    },
    {
      "cell_type": "code",
      "source": [
        "# 1 channel (greyscale), 6 filters, 26x26 image size (output; no padding used)\n",
        "x.shape"
      ],
      "metadata": {
        "colab": {
          "base_uri": "https://localhost:8080/"
        },
        "id": "EbM6TVVHx_Ym",
        "outputId": "a8ced038-c230-4bba-cafb-c6fc6ba54727"
      },
      "execution_count": 19,
      "outputs": [
        {
          "output_type": "execute_result",
          "data": {
            "text/plain": [
              "torch.Size([1, 6, 26, 26])"
            ]
          },
          "metadata": {},
          "execution_count": 19
        }
      ]
    },
    {
      "cell_type": "code",
      "source": [
        "# pooling layer (kernel of 2, stride of 2)\n",
        "x = F.max_pool2d(x, 2, 2)"
      ],
      "metadata": {
        "id": "8k8hnj2IyDQ2"
      },
      "execution_count": 20,
      "outputs": []
    },
    {
      "cell_type": "code",
      "source": [
        "x.shape"
      ],
      "metadata": {
        "colab": {
          "base_uri": "https://localhost:8080/"
        },
        "id": "a9GpyHgnyut4",
        "outputId": "0e794a1c-88cb-4fdc-85cf-a18d56b17af4"
      },
      "execution_count": 21,
      "outputs": [
        {
          "output_type": "execute_result",
          "data": {
            "text/plain": [
              "torch.Size([1, 6, 13, 13])"
            ]
          },
          "metadata": {},
          "execution_count": 21
        }
      ]
    },
    {
      "cell_type": "code",
      "source": [
        "# 2nd convolution layer\n",
        "x = F.relu(conv2(x))"
      ],
      "metadata": {
        "id": "071hC5qwyysV"
      },
      "execution_count": 22,
      "outputs": []
    },
    {
      "cell_type": "code",
      "source": [
        "# 1 channel (greyscale), 16 filters, 11x11 image size (output; no padding used)\n",
        "x.shape"
      ],
      "metadata": {
        "colab": {
          "base_uri": "https://localhost:8080/"
        },
        "id": "Jv_twJvby-a9",
        "outputId": "451f8182-9052-4758-d3f9-f5189029025c"
      },
      "execution_count": 23,
      "outputs": [
        {
          "output_type": "execute_result",
          "data": {
            "text/plain": [
              "torch.Size([1, 16, 11, 11])"
            ]
          },
          "metadata": {},
          "execution_count": 23
        }
      ]
    },
    {
      "cell_type": "code",
      "source": [
        "x = F.max_pool2d(x, 2, 2)"
      ],
      "metadata": {
        "id": "BuBZWbtkzROm"
      },
      "execution_count": 24,
      "outputs": []
    },
    {
      "cell_type": "code",
      "source": [
        "# 1 channel (greyscale), 16 filters, 5x5 image size (output; no padding used)\n",
        "x.shape"
      ],
      "metadata": {
        "colab": {
          "base_uri": "https://localhost:8080/"
        },
        "id": "G_falsTRzdFy",
        "outputId": "8b4d8e5f-d37e-4696-d933-4516056d72aa"
      },
      "execution_count": 25,
      "outputs": [
        {
          "output_type": "execute_result",
          "data": {
            "text/plain": [
              "torch.Size([1, 16, 5, 5])"
            ]
          },
          "metadata": {},
          "execution_count": 25
        }
      ]
    },
    {
      "cell_type": "markdown",
      "source": [
        "## Define Model Class"
      ],
      "metadata": {
        "id": "JhebUCXCz8dX"
      }
    },
    {
      "cell_type": "code",
      "source": [
        "class ConvolutionalNetwork(nn.Module):\n",
        "  def __init__(self):\n",
        "    super().__init__()\n",
        "    # conv layers\n",
        "    self.conv1 = nn.Conv2d(1, 6, 3, 1)\n",
        "    self.conv2 = nn.Conv2d(6, 16, 3, 1)\n",
        "    # fully connected neural layer\n",
        "    self.fc1 = nn.Linear(5*5*16, 120)  # 5x5 - size of output image from the last conv layer\n",
        "    self.fc2 = nn.Linear(120, 84)\n",
        "    self.fc3 = nn.Linear(84, 10)  # 10 - number of classes in the datasets (digits 0-9)\n",
        "\n",
        "  def forward(self, x):\n",
        "    # conv layer 1\n",
        "    x = F.relu(self.conv1(x))\n",
        "    x = F.max_pool2d(x, 2, 2)  # kernel of 2x2, stride of 2\n",
        "\n",
        "    # conv layer 2\n",
        "    x = F.relu(self.conv2(x))\n",
        "    x = F.max_pool2d(x, 2, 2)  # kernel of 2x2, stride of 2\n",
        "\n",
        "    # re-view the data to flatten it out\n",
        "    x = x.view(-1, 5*5*16)  # we use -1 so that we can vary the batch size\n",
        "\n",
        "    # fully connected neural layers\n",
        "    x = F.relu(self.fc1(x))\n",
        "    x = F.relu(self.fc2(x))\n",
        "    x = self.fc3(x)\n",
        "    return F.log_softmax(x, dim = 1)"
      ],
      "metadata": {
        "id": "ZlOegg6xzd80"
      },
      "execution_count": 31,
      "outputs": []
    },
    {
      "cell_type": "code",
      "source": [
        "model = ConvolutionalNetwork()\n",
        "model"
      ],
      "metadata": {
        "colab": {
          "base_uri": "https://localhost:8080/"
        },
        "id": "7ceQJ-Xd1fhR",
        "outputId": "0ae7ccd3-dead-4cbc-eec5-371d10438fe6"
      },
      "execution_count": 32,
      "outputs": [
        {
          "output_type": "execute_result",
          "data": {
            "text/plain": [
              "ConvolutionalNetwork(\n",
              "  (conv1): Conv2d(1, 6, kernel_size=(3, 3), stride=(1, 1))\n",
              "  (conv2): Conv2d(6, 16, kernel_size=(3, 3), stride=(1, 1))\n",
              "  (fc1): Linear(in_features=400, out_features=120, bias=True)\n",
              "  (fc2): Linear(in_features=120, out_features=84, bias=True)\n",
              "  (fc3): Linear(in_features=84, out_features=10, bias=True)\n",
              ")"
            ]
          },
          "metadata": {},
          "execution_count": 32
        }
      ]
    },
    {
      "cell_type": "markdown",
      "source": [
        "### Loss Function Optimizer"
      ],
      "metadata": {
        "id": "IQQ5T7WL1tvz"
      }
    },
    {
      "cell_type": "code",
      "source": [
        "criterion = nn.CrossEntropyLoss()\n",
        "optimizer = torch.optim.Adam(model.parameters(), lr = 0.01)"
      ],
      "metadata": {
        "id": "k5QqoIkK1n1D"
      },
      "execution_count": 33,
      "outputs": []
    },
    {
      "cell_type": "markdown",
      "source": [
        "## Train CNN Model"
      ],
      "metadata": {
        "id": "vxRh3VSY2_HN"
      }
    },
    {
      "cell_type": "code",
      "source": [
        "import time\n",
        "start_time = time.time()\n",
        "\n",
        "# Create Variables To Track Things\n",
        "epochs = 3\n",
        "train_losses = []\n",
        "test_losses = []\n",
        "train_correct = []\n",
        "test_correct = []\n",
        "\n",
        "# For Loop of Epochs\n",
        "for i in range(epochs):\n",
        "    trn_corr = 0\n",
        "    tst_corr = 0\n",
        "\n",
        "    # Train\n",
        "    for b, (X_train, y_train) in enumerate(train_loader):\n",
        "        b += 1  # start our batches at 1\n",
        "        y_pred = model(X_train)  # get predicted values from the training set (2d output)\n",
        "        loss = criterion(y_pred, y_train)  # calculate the loss (how off are we?)\n",
        "\n",
        "        # Calculate the number of correct predictions\n",
        "        predicted = torch.max(y_pred.data, 1)[1]  # get the index of the max log-probability\n",
        "        batch_corr = (predicted == y_train).sum()  # how many we got correct in this batch\n",
        "        trn_corr += batch_corr  # accumulate correct predictions\n",
        "\n",
        "        # Update the parameters\n",
        "        optimizer.zero_grad()\n",
        "        loss.backward()\n",
        "        optimizer.step()\n",
        "\n",
        "        # Print out some results every 600 batches\n",
        "        if b % 600 == 0:\n",
        "            print(f'Epoch: {i}  Batch: {b}  Loss: {loss.item()}')\n",
        "\n",
        "    train_losses.append(loss.item())\n",
        "    train_correct.append(trn_corr)\n",
        "\n",
        "    # Test (validation)\n",
        "    model.eval()  # Set model to evaluation mode (no gradients required)\n",
        "    val_loss = 0\n",
        "    val_corr = 0\n",
        "    with torch.no_grad():  # No gradient so we don't update our weights and biases with test data\n",
        "        for b, (X_test, y_test) in enumerate(test_loader):\n",
        "            y_val = model(X_test)\n",
        "            loss = criterion(y_val, y_test)  # compute the validation loss\n",
        "            val_loss += loss.item()  # accumulate the validation loss\n",
        "\n",
        "            predicted = torch.max(y_val.data, 1)[1]  # Adding up correct predictions\n",
        "            val_corr += (predicted == y_test).sum()  # sum up the correct predictions\n",
        "\n",
        "    val_loss /= len(test_loader)  # Average the validation loss over all batches\n",
        "    test_losses.append(val_loss)\n",
        "    test_correct.append(val_corr)\n",
        "\n",
        "    print(f'Epoch {i+1}: Train accuracy: {trn_corr / len(train_loader.dataset)}, '\n",
        "          f'Test accuracy: {val_corr / len(test_loader.dataset)}')\n",
        "\n",
        "current_time = time.time()\n",
        "total = current_time - start_time\n",
        "print(f'Training took: {total / 60} minutes!')\n"
      ],
      "metadata": {
        "colab": {
          "base_uri": "https://localhost:8080/"
        },
        "id": "k4VevBRV12cg",
        "outputId": "1eb00fbb-d9a7-4dfa-f29d-8352a9feb6a3"
      },
      "execution_count": 51,
      "outputs": [
        {
          "output_type": "stream",
          "name": "stdout",
          "text": [
            "Epoch: 0  Batch: 600  Loss: 3.6835494938713964e-06\n",
            "Epoch: 0  Batch: 1200  Loss: 0.0041022999212145805\n",
            "Epoch: 0  Batch: 1800  Loss: 0.00012332404730841517\n",
            "Epoch: 0  Batch: 2400  Loss: 0.001058673718944192\n",
            "Epoch: 0  Batch: 3000  Loss: 0.45169076323509216\n",
            "Epoch: 0  Batch: 3600  Loss: 0.00964687392115593\n",
            "Epoch: 0  Batch: 4200  Loss: 6.611419667024165e-05\n",
            "Epoch: 0  Batch: 4800  Loss: 6.651684088865295e-06\n",
            "Epoch: 0  Batch: 5400  Loss: 4.1217688703909516e-05\n",
            "Epoch: 0  Batch: 6000  Loss: 0.0010278036352247\n",
            "Epoch 1: Train accuracy: 0.9946333169937134, Test accuracy: 0.9883999824523926\n",
            "Epoch: 1  Batch: 600  Loss: 0.1679043024778366\n",
            "Epoch: 1  Batch: 1200  Loss: 3.9295682654483244e-05\n",
            "Epoch: 1  Batch: 1800  Loss: 8.3325503510423e-06\n",
            "Epoch: 1  Batch: 2400  Loss: 0.00010772183304652572\n",
            "Epoch: 1  Batch: 3000  Loss: 6.482900062110275e-05\n",
            "Epoch: 1  Batch: 3600  Loss: 0.002151269931346178\n",
            "Epoch: 1  Batch: 4200  Loss: 7.390956966446538e-07\n",
            "Epoch: 1  Batch: 4800  Loss: 1.704687747405842e-06\n",
            "Epoch: 1  Batch: 5400  Loss: 0.03158653527498245\n",
            "Epoch: 1  Batch: 6000  Loss: 1.3040989870205522e-05\n",
            "Epoch 2: Train accuracy: 0.9949666857719421, Test accuracy: 0.9878000020980835\n",
            "Epoch: 2  Batch: 600  Loss: 0.0005060528055764735\n",
            "Epoch: 2  Batch: 1200  Loss: 1.4959970940253697e-05\n",
            "Epoch: 2  Batch: 1800  Loss: 0.11507947742938995\n",
            "Epoch: 2  Batch: 2400  Loss: 3.620195639086887e-05\n",
            "Epoch: 2  Batch: 3000  Loss: 3.051730573133682e-06\n",
            "Epoch: 2  Batch: 3600  Loss: 1.0644876056176145e-05\n",
            "Epoch: 2  Batch: 4200  Loss: 5.9813308325828984e-05\n",
            "Epoch: 2  Batch: 4800  Loss: 0.34851330518722534\n",
            "Epoch: 2  Batch: 5400  Loss: 0.00020714578568004072\n",
            "Epoch: 2  Batch: 6000  Loss: 0.16353902220726013\n",
            "Epoch 3: Train accuracy: 0.9959499835968018, Test accuracy: 0.9886999726295471\n",
            "Training took: 2.5012343009312947 minutes!\n"
          ]
        }
      ]
    },
    {
      "cell_type": "markdown",
      "source": [
        "### Graph Loss at Each Epoch"
      ],
      "metadata": {
        "id": "s0iF9EI_7M6Q"
      }
    },
    {
      "cell_type": "code",
      "source": [
        "# Graph the loss at epoch\n",
        "train_losses = [tl for tl in train_losses]  # Ensure losses are in the proper format\n",
        "test_losses = [tl for tl in test_losses]  # Ensure test losses are in the proper format\n",
        "plt.figure(figsize=(10, 5))\n",
        "plt.plot(train_losses, label=\"Training Loss\")\n",
        "plt.plot(test_losses, label=\"Validation Loss\")\n",
        "plt.title(\"Loss at Epoch\")\n",
        "plt.xlabel(\"Epochs\")\n",
        "plt.ylabel(\"Loss\")\n",
        "plt.legend()"
      ],
      "metadata": {
        "colab": {
          "base_uri": "https://localhost:8080/",
          "height": 451
        },
        "id": "Js7HJ5YN3QQz",
        "outputId": "0739b9f7-f722-4d39-e6bd-5e30c639988e"
      },
      "execution_count": 58,
      "outputs": [
        {
          "output_type": "execute_result",
          "data": {
            "text/plain": [
              "<matplotlib.legend.Legend at 0x7f5471923d00>"
            ]
          },
          "metadata": {},
          "execution_count": 58
        },
        {
          "output_type": "display_data",
          "data": {
            "text/plain": [
              "<Figure size 1000x500 with 1 Axes>"
            ],
            "image/png": "[encoded data removed]"
          },
          "metadata": {}
        }
      ]
    },
    {
      "cell_type": "markdown",
      "source": [
        "### Accuracy at the End of Each Epoch"
      ],
      "metadata": {
        "id": "iWpT4CRP7zNm"
      }
    },
    {
      "cell_type": "code",
      "source": [
        "# Graph the accuracy at the end of each epoch\n",
        "train_accuracy = [t / len(train_loader.dataset) for t in train_correct]  # Normalize by dataset size\n",
        "test_accuracy = [t / len(test_loader.dataset) for t in test_correct]  # Normalize by dataset size\n",
        "plt.figure(figsize=(10, 5))\n",
        "plt.plot(train_accuracy, label=\"Training Accuracy\")\n",
        "plt.plot(test_accuracy, label=\"Validation Accuracy\")\n",
        "plt.title(\"Accuracy at the End of Each Epoch\")\n",
        "plt.xlabel(\"Epochs\")\n",
        "plt.ylabel(\"Accuracy\")\n",
        "plt.legend()"
      ],
      "metadata": {
        "colab": {
          "base_uri": "https://localhost:8080/",
          "height": 447
        },
        "id": "GX8wjk6_7S_K",
        "outputId": "4d9df36c-48e7-456c-9bc4-70b72fda5600"
      },
      "execution_count": 59,
      "outputs": [
        {
          "output_type": "execute_result",
          "data": {
            "text/plain": [
              "<matplotlib.legend.Legend at 0x7f54711a26b0>"
            ]
          },
          "metadata": {},
          "execution_count": 59
        },
        {
          "output_type": "display_data",
          "data": {
            "text/plain": [
              "<Figure size 1000x500 with 1 Axes>"
            ],
            "image/png": "[encoded data removed]"
          },
          "metadata": {}
        }
      ]
    },
    {
      "cell_type": "markdown",
      "source": [
        "## Test Trained Model"
      ],
      "metadata": {
        "id": "gArr9_rvAKUV"
      }
    },
    {
      "cell_type": "code",
      "source": [
        "test_load_all = DataLoader(test_data, batch_size = 10000, shuffle = False)"
      ],
      "metadata": {
        "id": "C9HLgaOX8LV2"
      },
      "execution_count": 60,
      "outputs": []
    },
    {
      "cell_type": "code",
      "source": [
        "with torch.no_grad():\n",
        "  correct = 0\n",
        "  for X_test, y_test in test_load_all:\n",
        "    y_val = model(X_test)\n",
        "    predicted = torch.max(y_val, 1)[1]\n",
        "    correct += (predicted == y_test).sum()"
      ],
      "metadata": {
        "id": "s_nb7xFU8t8F"
      },
      "execution_count": 62,
      "outputs": []
    },
    {
      "cell_type": "code",
      "source": [
        "print(f'Test accuracy: {correct / len(test_data)*100}%')"
      ],
      "metadata": {
        "colab": {
          "base_uri": "https://localhost:8080/"
        },
        "id": "uEjGSI5hAdNJ",
        "outputId": "61c87749-94aa-41d5-e870-36c990f03c1d"
      },
      "execution_count": 65,
      "outputs": [
        {
          "output_type": "stream",
          "name": "stdout",
          "text": [
            "Test accuracy: 98.8699951171875%\n"
          ]
        }
      ]
    },
    {
      "cell_type": "markdown",
      "source": [
        "## Send an Image through the Trained Model"
      ],
      "metadata": {
        "id": "VBJfl1toBB2C"
      }
    },
    {
      "cell_type": "markdown",
      "source": [
        "### Take an image from the dataset"
      ],
      "metadata": {
        "id": "Qgc0W_iWCJ5O"
      }
    },
    {
      "cell_type": "code",
      "source": [
        "index_of_image = 19\n",
        "image_to_classify = test_data[index_of_image][0]\n",
        "image_to_classify.reshape(28,28)"
      ],
      "metadata": {
        "colab": {
          "base_uri": "https://localhost:8080/"
        },
        "id": "dAy7WowVAliD",
        "outputId": "867e7fb6-5aab-4914-fb6b-2b21ed3190ab"
      },
      "execution_count": 73,
      "outputs": [
        {
          "output_type": "execute_result",
          "data": {
            "text/plain": [
              "tensor([[0.0000, 0.0000, 0.0000, 0.0000, 0.0000, 0.0000, 0.0000, 0.0000, 0.0000,\n",
              "         0.0000, 0.0000, 0.0000, 0.0000, 0.0000, 0.0000, 0.0000, 0.0000, 0.0000,\n",
              "         0.0000, 0.0000, 0.0000, 0.0000, 0.0000, 0.0000, 0.0000, 0.0000, 0.0000,\n",
              "         0.0000],\n",
              "        [0.0000, 0.0000, 0.0000, 0.0000, 0.0000, 0.0000, 0.0000, 0.0000, 0.0000,\n",
              "         0.0000, 0.0000, 0.0000, 0.0000, 0.0000, 0.0000, 0.0000, 0.0000, 0.0000,\n",
              "         0.0000, 0.0000, 0.0000, 0.0000, 0.0000, 0.0000, 0.0000, 0.0000, 0.0000,\n",
              "         0.0000],\n",
              "        [0.0000, 0.0000, 0.0000, 0.0000, 0.0000, 0.0000, 0.0000, 0.0000, 0.0000,\n",
              "         0.0000, 0.0000, 0.0000, 0.0000, 0.0000, 0.0000, 0.0000, 0.0000, 0.0000,\n",
              "         0.0000, 0.0000, 0.0000, 0.0000, 0.0000, 0.0000, 0.0000, 0.0000, 0.0000,\n",
              "         0.0000],\n",
              "        [0.0000, 0.0000, 0.0000, 0.0000, 0.0000, 0.0000, 0.0000, 0.0000, 0.0000,\n",
              "         0.0000, 0.0000, 0.0000, 0.0000, 0.0000, 0.0000, 0.0000, 0.0000, 0.0000,\n",
              "         0.0000, 0.0000, 0.0000, 0.0000, 0.0000, 0.0000, 0.0000, 0.0000, 0.0000,\n",
              "         0.0000],\n",
              "        [0.0000, 0.0000, 0.0000, 0.0000, 0.0000, 0.0000, 0.0000, 0.0000, 0.0000,\n",
              "         0.0000, 0.0000, 0.0000, 0.0000, 0.0000, 0.0000, 0.0000, 0.0000, 0.0000,\n",
              "         0.0000, 0.0000, 0.0000, 0.0000, 0.0000, 0.0000, 0.0000, 0.0000, 0.0000,\n",
              "         0.0000],\n",
              "        [0.0000, 0.0000, 0.0000, 0.0000, 0.0000, 0.0000, 0.0000, 0.0000, 0.0000,\n",
              "         0.0000, 0.0000, 0.0000, 0.0000, 0.0000, 0.0000, 0.0000, 0.0000, 0.0000,\n",
              "         0.6588, 0.3569, 0.0000, 0.0000, 0.0000, 0.0000, 0.0000, 0.0000, 0.0000,\n",
              "         0.0000],\n",
              "        [0.0000, 0.0000, 0.0000, 0.0000, 0.0000, 0.0000, 0.0000, 0.0000, 0.0000,\n",
              "         0.0000, 0.0000, 0.0000, 0.0000, 0.0000, 0.0000, 0.0000, 0.0000, 0.0078,\n",
              "         0.9176, 0.4941, 0.0000, 0.0000, 0.0000, 0.0000, 0.0000, 0.0000, 0.0000,\n",
              "         0.0000],\n",
              "        [0.0000, 0.0000, 0.0000, 0.0000, 0.0000, 0.0000, 0.0000, 0.0000, 0.0000,\n",
              "         0.0000, 0.0000, 0.0000, 0.0000, 0.0000, 0.0000, 0.0000, 0.0000, 0.2000,\n",
              "         0.9961, 0.4941, 0.0000, 0.0000, 0.0000, 0.0000, 0.0000, 0.0000, 0.0000,\n",
              "         0.0000],\n",
              "        [0.0000, 0.0000, 0.0000, 0.0000, 0.0000, 0.0000, 0.0000, 0.0000, 0.0000,\n",
              "         0.1490, 0.6980, 0.1216, 0.0000, 0.0000, 0.0000, 0.0000, 0.0000, 0.2000,\n",
              "         0.9961, 0.3176, 0.0000, 0.0000, 0.0000, 0.0000, 0.0000, 0.0000, 0.0000,\n",
              "         0.0000],\n",
              "        [0.0000, 0.0000, 0.0000, 0.0000, 0.0000, 0.0000, 0.0000, 0.0000, 0.0000,\n",
              "         0.3686, 0.9961, 0.3255, 0.0000, 0.0000, 0.0000, 0.0000, 0.0000, 0.3412,\n",
              "         0.9961, 0.2118, 0.0000, 0.0000, 0.0000, 0.0000, 0.0000, 0.0000, 0.0000,\n",
              "         0.0000],\n",
              "        [0.0000, 0.0000, 0.0000, 0.0000, 0.0000, 0.0000, 0.0000, 0.0000, 0.0000,\n",
              "         0.6275, 0.9961, 0.2196, 0.0000, 0.0000, 0.0000, 0.0000, 0.0000, 0.7412,\n",
              "         0.9333, 0.0157, 0.0000, 0.0000, 0.0000, 0.0000, 0.0000, 0.0000, 0.0000,\n",
              "         0.0000],\n",
              "        [0.0000, 0.0000, 0.0000, 0.0000, 0.0000, 0.0000, 0.0000, 0.0000, 0.0510,\n",
              "         0.8902, 0.6588, 0.0078, 0.0000, 0.0000, 0.0000, 0.0000, 0.0000, 0.7608,\n",
              "         0.9255, 0.0000, 0.0000, 0.0000, 0.0000, 0.0000, 0.0000, 0.0000, 0.0000,\n",
              "         0.0000],\n",
              "        [0.0000, 0.0000, 0.0000, 0.0000, 0.0000, 0.0000, 0.0000, 0.0000, 0.2157,\n",
              "         0.9961, 0.4471, 0.0000, 0.0000, 0.0000, 0.0000, 0.0000, 0.0627, 0.9216,\n",
              "         0.6549, 0.0000, 0.0000, 0.0000, 0.0000, 0.0000, 0.0000, 0.0000, 0.0000,\n",
              "         0.0000],\n",
              "        [0.0000, 0.0000, 0.0000, 0.0000, 0.0000, 0.0000, 0.0000, 0.0000, 0.4510,\n",
              "         0.9961, 0.1961, 0.0000, 0.0000, 0.0000, 0.0000, 0.0000, 0.4039, 0.9961,\n",
              "         0.4118, 0.0000, 0.0000, 0.0000, 0.0000, 0.0000, 0.0000, 0.0000, 0.0000,\n",
              "         0.0000],\n",
              "        [0.0000, 0.0000, 0.0000, 0.0000, 0.0000, 0.0000, 0.0000, 0.0275, 0.8667,\n",
              "         0.9255, 0.2941, 0.6118, 0.7059, 0.7451, 0.9882, 0.9882, 0.9922, 0.9961,\n",
              "         0.4471, 0.0000, 0.0000, 0.0000, 0.0000, 0.0000, 0.0000, 0.0000, 0.0000,\n",
              "         0.0000],\n",
              "        [0.0000, 0.0000, 0.0000, 0.0000, 0.0000, 0.0000, 0.0000, 0.0588, 0.9961,\n",
              "         0.9961, 0.9961, 0.9882, 0.8275, 0.7020, 0.7020, 0.7020, 0.9647, 0.9961,\n",
              "         0.9686, 0.3686, 0.0000, 0.0000, 0.0000, 0.0000, 0.0000, 0.0000, 0.0000,\n",
              "         0.0000],\n",
              "        [0.0000, 0.0000, 0.0000, 0.0000, 0.0000, 0.0000, 0.0000, 0.0314, 0.8510,\n",
              "         0.9373, 0.4588, 0.0863, 0.0000, 0.0000, 0.0000, 0.0000, 0.8863, 0.9961,\n",
              "         0.9490, 0.7725, 0.0000, 0.0000, 0.0000, 0.0000, 0.0000, 0.0000, 0.0000,\n",
              "         0.0000],\n",
              "        [0.0000, 0.0000, 0.0000, 0.0000, 0.0000, 0.0000, 0.0000, 0.0000, 0.0549,\n",
              "         0.0706, 0.0000, 0.0000, 0.0000, 0.0000, 0.0000, 0.1059, 0.9529, 0.8118,\n",
              "         0.1804, 0.1451, 0.0000, 0.0000, 0.0000, 0.0000, 0.0000, 0.0000, 0.0000,\n",
              "         0.0000],\n",
              "        [0.0000, 0.0000, 0.0000, 0.0000, 0.0000, 0.0000, 0.0000, 0.0000, 0.0000,\n",
              "         0.0000, 0.0000, 0.0000, 0.0000, 0.0000, 0.0000, 0.3882, 0.9961, 0.5176,\n",
              "         0.0000, 0.0000, 0.0000, 0.0000, 0.0000, 0.0000, 0.0000, 0.0000, 0.0000,\n",
              "         0.0000],\n",
              "        [0.0000, 0.0000, 0.0000, 0.0000, 0.0000, 0.0000, 0.0000, 0.0000, 0.0000,\n",
              "         0.0000, 0.0000, 0.0000, 0.0000, 0.0000, 0.0000, 0.4549, 0.9961, 0.2627,\n",
              "         0.0000, 0.0000, 0.0000, 0.0000, 0.0000, 0.0000, 0.0000, 0.0000, 0.0000,\n",
              "         0.0000],\n",
              "        [0.0000, 0.0000, 0.0000, 0.0000, 0.0000, 0.0000, 0.0000, 0.0000, 0.0000,\n",
              "         0.0000, 0.0000, 0.0000, 0.0000, 0.0000, 0.0000, 0.4549, 0.9961, 0.2392,\n",
              "         0.0000, 0.0000, 0.0000, 0.0000, 0.0000, 0.0000, 0.0000, 0.0000, 0.0000,\n",
              "         0.0000],\n",
              "        [0.0000, 0.0000, 0.0000, 0.0000, 0.0000, 0.0000, 0.0000, 0.0000, 0.0000,\n",
              "         0.0000, 0.0000, 0.0000, 0.0000, 0.0000, 0.0000, 0.4549, 0.9961, 0.2392,\n",
              "         0.0000, 0.0000, 0.0000, 0.0000, 0.0000, 0.0000, 0.0000, 0.0000, 0.0000,\n",
              "         0.0000],\n",
              "        [0.0000, 0.0000, 0.0000, 0.0000, 0.0000, 0.0000, 0.0000, 0.0000, 0.0000,\n",
              "         0.0000, 0.0000, 0.0000, 0.0000, 0.0000, 0.0000, 0.6824, 1.0000, 0.3922,\n",
              "         0.0000, 0.0000, 0.0000, 0.0000, 0.0000, 0.0000, 0.0000, 0.0000, 0.0000,\n",
              "         0.0000],\n",
              "        [0.0000, 0.0000, 0.0000, 0.0000, 0.0000, 0.0000, 0.0000, 0.0000, 0.0000,\n",
              "         0.0000, 0.0000, 0.0000, 0.0000, 0.0000, 0.0000, 0.7333, 0.9961, 0.3255,\n",
              "         0.0000, 0.0000, 0.0000, 0.0000, 0.0000, 0.0000, 0.0000, 0.0000, 0.0000,\n",
              "         0.0000],\n",
              "        [0.0000, 0.0000, 0.0000, 0.0000, 0.0000, 0.0000, 0.0000, 0.0000, 0.0000,\n",
              "         0.0000, 0.0000, 0.0000, 0.0000, 0.0000, 0.0000, 0.4510, 0.6902, 0.0392,\n",
              "         0.0000, 0.0000, 0.0000, 0.0000, 0.0000, 0.0000, 0.0000, 0.0000, 0.0000,\n",
              "         0.0000],\n",
              "        [0.0000, 0.0000, 0.0000, 0.0000, 0.0000, 0.0000, 0.0000, 0.0000, 0.0000,\n",
              "         0.0000, 0.0000, 0.0000, 0.0000, 0.0000, 0.0000, 0.0000, 0.0000, 0.0000,\n",
              "         0.0000, 0.0000, 0.0000, 0.0000, 0.0000, 0.0000, 0.0000, 0.0000, 0.0000,\n",
              "         0.0000],\n",
              "        [0.0000, 0.0000, 0.0000, 0.0000, 0.0000, 0.0000, 0.0000, 0.0000, 0.0000,\n",
              "         0.0000, 0.0000, 0.0000, 0.0000, 0.0000, 0.0000, 0.0000, 0.0000, 0.0000,\n",
              "         0.0000, 0.0000, 0.0000, 0.0000, 0.0000, 0.0000, 0.0000, 0.0000, 0.0000,\n",
              "         0.0000],\n",
              "        [0.0000, 0.0000, 0.0000, 0.0000, 0.0000, 0.0000, 0.0000, 0.0000, 0.0000,\n",
              "         0.0000, 0.0000, 0.0000, 0.0000, 0.0000, 0.0000, 0.0000, 0.0000, 0.0000,\n",
              "         0.0000, 0.0000, 0.0000, 0.0000, 0.0000, 0.0000, 0.0000, 0.0000, 0.0000,\n",
              "         0.0000]])"
            ]
          },
          "metadata": {},
          "execution_count": 73
        }
      ]
    },
    {
      "cell_type": "markdown",
      "source": [
        "### Show the image"
      ],
      "metadata": {
        "id": "q4tjXrUICNUU"
      }
    },
    {
      "cell_type": "code",
      "source": [
        "plt.imshow(image_to_classify.reshape(28,28))"
      ],
      "metadata": {
        "colab": {
          "base_uri": "https://localhost:8080/",
          "height": 448
        },
        "id": "EMHQEA4xB5Po",
        "outputId": "030ed7fa-b816-43b4-a31b-313393183444"
      },
      "execution_count": 74,
      "outputs": [
        {
          "output_type": "execute_result",
          "data": {
            "text/plain": [
              "<matplotlib.image.AxesImage at 0x7f5471758730>"
            ]
          },
          "metadata": {},
          "execution_count": 74
        },
        {
          "output_type": "display_data",
          "data": {
            "text/plain": [
              "<Figure size 640x480 with 1 Axes>"
            ],
            "image/png": "[encoded data removed]"
          },
          "metadata": {}
        }
      ]
    },
    {
      "cell_type": "markdown",
      "source": [
        "### Pass image into the model"
      ],
      "metadata": {
        "id": "N335nHikCU22"
      }
    },
    {
      "cell_type": "code",
      "source": [
        "model.eval()\n",
        "with torch.no_grad():\n",
        "  new_prediction = model(image_to_classify.view(1,1,28,28))"
      ],
      "metadata": {
        "id": "Y0uAkMxFCSO1"
      },
      "execution_count": 76,
      "outputs": []
    },
    {
      "cell_type": "code",
      "source": [
        "predicted_class = new_prediction.argmax().item()\n",
        "print(f'The model predicts that this digit is a {predicted_class}')"
      ],
      "metadata": {
        "colab": {
          "base_uri": "https://localhost:8080/"
        },
        "id": "nrQ-iMQcChrY",
        "outputId": "75f8a50b-fda7-4938-9d65-5a11ab0f0c53"
      },
      "execution_count": 82,
      "outputs": [
        {
          "output_type": "stream",
          "name": "stdout",
          "text": [
            "The model predicts that this digit is a 4\n"
          ]
        }
      ]
    }
  ]
}