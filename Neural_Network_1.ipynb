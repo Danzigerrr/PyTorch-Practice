{
  "nbformat": 4,
  "nbformat_minor": 0,
  "metadata": {
    "colab": {
      "provenance": [],
      "authorship_tag": "ABX9TyP7/lTsOmqpwvQBiCqDi3+s",
      "include_colab_link": true
    },
    "kernelspec": {
      "name": "python3",
      "display_name": "Python 3"
    },
    "language_info": {
      "name": "python"
    }
  },
  "cells": [
    {
      "cell_type": "markdown",
      "metadata": {
        "id": "view-in-github",
        "colab_type": "text"
      },
      "source": [
        "<a href=\"https://colab.research.google.com/github/Danzigerrr/PyTorch-Practice/blob/Neural-Network-Model-1/Neural_Network_1.ipynb\" target=\"_parent\"><img src=\"https://colab.research.google.com/assets/colab-badge.svg\" alt=\"Open In Colab\"/></a>"
      ]
    },
    {
      "cell_type": "markdown",
      "source": [
        "# Simple Neural Network model\n",
        "\n",
        "Data - IRIS dataset"
      ],
      "metadata": {
        "id": "X0DHGA8ZcYJG"
      }
    },
    {
      "cell_type": "code",
      "execution_count": 3,
      "metadata": {
        "id": "2vh9MYhEbWoe"
      },
      "outputs": [],
      "source": [
        "import torch\n",
        "import torch.nn as nn\n",
        "import torch.nn.functional as F"
      ]
    },
    {
      "cell_type": "markdown",
      "source": [
        "## Create Model Class"
      ],
      "metadata": {
        "id": "n41sNsIrclkw"
      }
    },
    {
      "cell_type": "code",
      "source": [
        "class Model(nn.Module):\n",
        "  def __init__(self, input_features, hidden_1, hidden_2, out_features):\n",
        "    super().__init__()\n",
        "    self.fc1 = nn.Linear(input_features, hidden_1)\n",
        "    self.fc2 = nn.Linear(hidden_1, hidden_2)\n",
        "    self.out = nn.Linear(hidden_2, out_features)\n",
        "\n",
        "  def forward(self, x):\n",
        "    x = F.relu(self.fc1(x))\n",
        "    x = F.relu(self.fc2(x))\n",
        "    x = self.out(x)\n",
        "\n",
        "    return x\n",
        "\n"
      ],
      "metadata": {
        "id": "V1y30sg0bX-o"
      },
      "execution_count": 5,
      "outputs": []
    },
    {
      "cell_type": "markdown",
      "source": [
        "## Create a Model instance"
      ],
      "metadata": {
        "id": "BYdpDE7ueKew"
      }
    },
    {
      "cell_type": "code",
      "source": [
        "torch.manual_seed(37)\n",
        "\n",
        "input_features = 4\n",
        "hidden_1 = 8\n",
        "hidden_2 = 9\n",
        "out_features = 3\n",
        "\n",
        "model = Model(input_features, hidden_1, hidden_2, out_features)"
      ],
      "metadata": {
        "id": "zt0Zw3bCdzSw"
      },
      "execution_count": 9,
      "outputs": []
    },
    {
      "cell_type": "code",
      "source": [],
      "metadata": {
        "id": "1eSn4NwfeAtQ"
      },
      "execution_count": null,
      "outputs": []
    }
  ]
}